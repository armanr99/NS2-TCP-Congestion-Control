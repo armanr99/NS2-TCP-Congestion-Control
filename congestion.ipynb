{
 "cells": [
  {
   "cell_type": "markdown",
   "metadata": {},
   "source": [
    "# Computer Networks Computer Assignment 2\n",
    "## Arman Rostami, Parsa Ghorbani"
   ]
  },
  {
   "cell_type": "markdown",
   "metadata": {},
   "source": [
    "### Initialization"
   ]
  },
  {
   "cell_type": "code",
   "execution_count": 1,
   "metadata": {},
   "outputs": [],
   "source": [
    "import os\n",
    "import numpy as np\n",
    "import pandas as pd\n",
    "import matplotlib.pyplot as plt"
   ]
  },
  {
   "cell_type": "code",
   "execution_count": 2,
   "metadata": {},
   "outputs": [],
   "source": [
    "SIMULATION_COUNT = 1\n",
    "TCL_FILENAME = \"congestion.tcl\"\n",
    "CWND_FILENAME_1 = \"cwnd1.csv\"\n",
    "CWND_FILENAME_2 = \"cwnd2.csv\"\n",
    "GOODPUT_FILENAME_1 = \"goodput1.csv\"\n",
    "GOODPUT_FILENAME_2 = \"goodput2.csv\"\n",
    "RTT_FILENAME_1 = \"rtt1.csv\"\n",
    "RTT_FILENAME_1 = \"rtt2.csv\""
   ]
  },
  {
   "cell_type": "code",
   "execution_count": 3,
   "metadata": {},
   "outputs": [],
   "source": [
    "plt.rcParams[\"figure.figsize\"] = (14, 5) "
   ]
  },
  {
   "cell_type": "markdown",
   "metadata": {},
   "source": [
    "### Simulator"
   ]
  },
  {
   "cell_type": "code",
   "execution_count": 4,
   "metadata": {},
   "outputs": [],
   "source": [
    "class Simulator:\n",
    "    def __init__(self, congestion_algorithm):\n",
    "        self.congestion_algorithm = congestion_algorithm\n",
    "        \n",
    "    def plot_linear(self, x, y):\n",
    "        plt.plot(x, y)\n",
    "        plt.xlabel(x.name)\n",
    "        plt.ylabel(y.name)\n",
    "        plt.title(\"%s - %s Relationship\" % (x.name, y.name))"
   ]
  },
  {
   "cell_type": "code",
   "execution_count": 6,
   "metadata": {},
   "outputs": [],
   "source": [
    "def train(self):\n",
    "    for i in range(0, SIMULATION_COUNT):\n",
    "        os.system(\"ns \" + TCL_FILENAME + \" \" + self.congestion_algorithm)\n",
    "        \n",
    "Simulator.train = train"
   ]
  },
  {
   "cell_type": "markdown",
   "metadata": {},
   "source": [
    "### Train Simulators"
   ]
  },
  {
   "cell_type": "code",
   "execution_count": 7,
   "metadata": {},
   "outputs": [],
   "source": [
    "newRenoSimulator = Simulator(\"Newreno\")\n",
    "newRenoSimulator.train()"
   ]
  },
  {
   "cell_type": "code",
   "execution_count": 8,
   "metadata": {},
   "outputs": [],
   "source": [
    "tahoeSimulator = Simulator(\"Tahoe\")\n",
    "tahoeSimulator.train()"
   ]
  },
  {
   "cell_type": "code",
   "execution_count": 9,
   "metadata": {},
   "outputs": [],
   "source": [
    "vegasSimulator = Simulator(\"Vegas\")\n",
    "vegasSimulator.train()"
   ]
  }
 ],
 "metadata": {
  "kernelspec": {
   "display_name": "Python 3",
   "language": "python",
   "name": "python3"
  },
  "language_info": {
   "codemirror_mode": {
    "name": "ipython",
    "version": 3
   },
   "file_extension": ".py",
   "mimetype": "text/x-python",
   "name": "python",
   "nbconvert_exporter": "python",
   "pygments_lexer": "ipython3",
   "version": "3.7.7"
  }
 },
 "nbformat": 4,
 "nbformat_minor": 4
}
