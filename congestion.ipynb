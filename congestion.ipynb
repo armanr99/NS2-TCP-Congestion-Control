{
 "cells": [
  {
   "cell_type": "markdown",
   "metadata": {},
   "source": [
    "# Computer Networks Computer Assignment 2\n",
    "## Arman Rostami, Parsa Ghorbani"
   ]
  },
  {
   "cell_type": "markdown",
   "metadata": {},
   "source": [
    "### Initialization"
   ]
  },
  {
   "cell_type": "code",
   "execution_count": 1,
   "metadata": {},
   "outputs": [],
   "source": [
    "import os\n",
    "import numpy as np\n",
    "import pandas as pd\n",
    "import matplotlib.pyplot as plt"
   ]
  },
  {
   "cell_type": "code",
   "execution_count": 2,
   "metadata": {},
   "outputs": [],
   "source": [
    "SIMULATION_COUNT = 10\n",
    "TCL_FILENAME = \"congestion.tcl\"\n",
    "OUTPUT_ENDING = \".csv\"\n",
    "CWND_DATA_NAME = \"cwnd\"\n",
    "GOODPUT_DATA_NAME = \"goodput\"\n",
    "RTT_DATA_NAME = \"rtt\""
   ]
  },
  {
   "cell_type": "code",
   "execution_count": 3,
   "metadata": {},
   "outputs": [],
   "source": [
    "plt.rcParams[\"figure.figsize\"] = (14, 5) "
   ]
  },
  {
   "cell_type": "markdown",
   "metadata": {},
   "source": [
    "### Simulator"
   ]
  },
  {
   "cell_type": "code",
   "execution_count": 4,
   "metadata": {},
   "outputs": [],
   "source": [
    "class Simulator:\n",
    "    def __init__(self, congestion_algorithm):\n",
    "        self.congestion_algorithm = congestion_algorithm\n",
    "        self.data = {}"
   ]
  },
  {
   "cell_type": "code",
   "execution_count": 5,
   "metadata": {},
   "outputs": [],
   "source": [
    "def train(self):\n",
    "    for i in range(0, SIMULATION_COUNT):\n",
    "        os.system(\"ns \" + TCL_FILENAME + \" \" + self.congestion_algorithm)\n",
    "        self.update_data(i, CWND_DATA_NAME)\n",
    "        self.update_data(i, GOODPUT_DATA_NAME)\n",
    "        self.update_data(i, RTT_DATA_NAME)\n",
    "        \n",
    "Simulator.train = train"
   ]
  },
  {
   "cell_type": "code",
   "execution_count": 6,
   "metadata": {},
   "outputs": [],
   "source": [
    "def plot_data(self, data_1, data_2):\n",
    "    plt.plot(data_1, \"b\", label=\"Top flow\")\n",
    "    plt.plot(data_2, \"r\", label=\"Bottom flow\")\n",
    "    plt.xlabel(\"time\")\n",
    "    plt.ylabel(data_1.name)\n",
    "    plt.legend()\n",
    "\n",
    "Simulator.plot_data = plot_data"
   ]
  },
  {
   "cell_type": "code",
   "execution_count": 7,
   "metadata": {},
   "outputs": [],
   "source": [
    "def get_dict_key(self, data_name, index):\n",
    "    return data_name + \"_\" + str(index)\n",
    "\n",
    "Simulator.get_dict_key = get_dict_key"
   ]
  },
  {
   "cell_type": "code",
   "execution_count": 8,
   "metadata": {},
   "outputs": [],
   "source": [
    "def update_data(self, simulation_index, data_name):\n",
    "    new_data_1 = pd.read_csv(data_name + \"1\" + OUTPUT_ENDING)\n",
    "    new_data_2 = pd.read_csv(data_name + \"2\" + OUTPUT_ENDING)\n",
    "        \n",
    "    data_dict_key_1 = self.get_dict_key(data_name, 1)\n",
    "    data_dict_key_2 = self.get_dict_key(data_name, 2)\n",
    "    \n",
    "    if simulation_index == 0:\n",
    "        self.data[data_dict_key_1] = new_data_1[data_name]\n",
    "        self.data[data_dict_key_2] = new_data_2[data_name]\n",
    "    else:\n",
    "        self.data[data_dict_key_1] += new_data_1[data_name]\n",
    "        self.data[data_dict_key_2] += new_data_2[data_name]\n",
    "        \n",
    "    if simulation_index == SIMULATION_COUNT - 1:\n",
    "        self.data[data_dict_key_1] /= SIMULATION_COUNT\n",
    "        self.data[data_dict_key_2] /= SIMULATION_COUNT\n",
    "    \n",
    "Simulator.update_data = update_data"
   ]
  },
  {
   "cell_type": "code",
   "execution_count": 9,
   "metadata": {},
   "outputs": [],
   "source": [
    "def plot_cwnd(self):\n",
    "    cwnd_data_1 = self.data[self.get_dict_key(CWND_DATA_NAME, 1)]\n",
    "    cwnd_data_2 = self.data[self.get_dict_key(CWND_DATA_NAME, 2)]\n",
    "    self.plot_data(cwnd_data_1, cwnd_data_2)\n",
    "    \n",
    "Simulator.plot_cwnd = plot_cwnd"
   ]
  },
  {
   "cell_type": "code",
   "execution_count": 10,
   "metadata": {},
   "outputs": [],
   "source": [
    "def plot_goodput(self):\n",
    "    goodput_data_1 = self.data[self.get_dict_key(GOODPUT_DATA_NAME, 1)]\n",
    "    goodput_data_2 = self.data[self.get_dict_key(GOODPUT_DATA_NAME, 2)]\n",
    "    self.plot_data(goodput_data_1, goodput_data_2)\n",
    "    \n",
    "Simulator.plot_goodput = plot_goodput"
   ]
  },
  {
   "cell_type": "code",
   "execution_count": 11,
   "metadata": {},
   "outputs": [],
   "source": [
    "def plot_rtt(self):\n",
    "    rtt_data_1 = self.data[self.get_dict_key(RTT_DATA_NAME, 1)]\n",
    "    rtt_data_2 = self.data[self.get_dict_key(RTT_DATA_NAME, 2)]\n",
    "    self.plot_data(rtt_data_1, rtt_data_2)\n",
    "    \n",
    "Simulator.plot_rtt = plot_rtt"
   ]
  },
  {
   "cell_type": "markdown",
   "metadata": {},
   "source": [
    "### Train Simulators"
   ]
  },
  {
   "cell_type": "code",
   "execution_count": null,
   "metadata": {},
   "outputs": [],
   "source": [
    "new_reno_simulator = Simulator(\"Newreno\")\n",
    "new_reno_simulator.train()"
   ]
  },
  {
   "cell_type": "code",
   "execution_count": null,
   "metadata": {},
   "outputs": [],
   "source": [
    "tahoe_simulator = Simulator(\"Tahoe\")\n",
    "tahoe_simulator.train()"
   ]
  },
  {
   "cell_type": "code",
   "execution_count": null,
   "metadata": {},
   "outputs": [],
   "source": [
    "vegas_simulator = Simulator(\"Vegas\")\n",
    "vegas_simulator.train()"
   ]
  },
  {
   "cell_type": "markdown",
   "metadata": {},
   "source": [
    "### CWND"
   ]
  },
  {
   "cell_type": "markdown",
   "metadata": {},
   "source": [
    "#### Newreno"
   ]
  },
  {
   "cell_type": "code",
   "execution_count": null,
   "metadata": {},
   "outputs": [],
   "source": [
    "new_reno_simulator.plot_cwnd()"
   ]
  },
  {
   "cell_type": "markdown",
   "metadata": {},
   "source": [
    "#### Tahoe"
   ]
  },
  {
   "cell_type": "code",
   "execution_count": null,
   "metadata": {},
   "outputs": [],
   "source": [
    "tahoe_simulator.plot_cwnd()"
   ]
  },
  {
   "cell_type": "markdown",
   "metadata": {},
   "source": [
    "#### Vegas"
   ]
  },
  {
   "cell_type": "code",
   "execution_count": null,
   "metadata": {},
   "outputs": [],
   "source": [
    "vegas_simulator.plot_cwnd()"
   ]
  },
  {
   "cell_type": "markdown",
   "metadata": {},
   "source": [
    "### Goodput"
   ]
  },
  {
   "cell_type": "markdown",
   "metadata": {},
   "source": [
    "#### Newreno"
   ]
  },
  {
   "cell_type": "code",
   "execution_count": null,
   "metadata": {},
   "outputs": [],
   "source": [
    "new_reno_simulator.plot_goodput()"
   ]
  },
  {
   "cell_type": "markdown",
   "metadata": {},
   "source": [
    "#### Tahoe"
   ]
  },
  {
   "cell_type": "code",
   "execution_count": null,
   "metadata": {},
   "outputs": [],
   "source": [
    "tahoe_simulator.plot_goodput()"
   ]
  },
  {
   "cell_type": "markdown",
   "metadata": {},
   "source": [
    "#### Vegas"
   ]
  },
  {
   "cell_type": "code",
   "execution_count": null,
   "metadata": {},
   "outputs": [],
   "source": [
    "vegas_simulator.plot_goodput()"
   ]
  },
  {
   "cell_type": "markdown",
   "metadata": {},
   "source": [
    "### RTT"
   ]
  },
  {
   "cell_type": "markdown",
   "metadata": {},
   "source": [
    "#### Newreno"
   ]
  },
  {
   "cell_type": "code",
   "execution_count": null,
   "metadata": {},
   "outputs": [],
   "source": [
    "new_reno_simulator.plot_rtt()"
   ]
  },
  {
   "cell_type": "markdown",
   "metadata": {},
   "source": [
    "#### Tahoe"
   ]
  },
  {
   "cell_type": "code",
   "execution_count": null,
   "metadata": {},
   "outputs": [],
   "source": [
    "tahoe_simulator.plot_rtt()"
   ]
  },
  {
   "cell_type": "markdown",
   "metadata": {},
   "source": [
    "#### Vegas"
   ]
  },
  {
   "cell_type": "code",
   "execution_count": null,
   "metadata": {},
   "outputs": [],
   "source": [
    "vegas_simulator.plot_rtt()"
   ]
  }
 ],
 "metadata": {
  "kernelspec": {
   "display_name": "Python 3",
   "language": "python",
   "name": "python3"
  },
  "language_info": {
   "codemirror_mode": {
    "name": "ipython",
    "version": 3
   },
   "file_extension": ".py",
   "mimetype": "text/x-python",
   "name": "python",
   "nbconvert_exporter": "python",
   "pygments_lexer": "ipython3",
   "version": "3.7.7"
  }
 },
 "nbformat": 4,
 "nbformat_minor": 4
}
